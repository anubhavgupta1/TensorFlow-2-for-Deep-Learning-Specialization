{
  "nbformat": 4,
  "nbformat_minor": 0,
  "metadata": {
    "colab": {
      "name": "Untitled3.ipynb",
      "provenance": [],
      "collapsed_sections": [],
      "authorship_tag": "ABX9TyMGVrS+nOxvbObk2P0C2LOs",
      "include_colab_link": true
    },
    "kernelspec": {
      "name": "python3",
      "display_name": "Python 3"
    },
    "language_info": {
      "name": "python"
    }
  },
  "cells": [
    {
      "cell_type": "markdown",
      "metadata": {
        "id": "view-in-github",
        "colab_type": "text"
      },
      "source": [
        "<a href=\"https://colab.research.google.com/github/anubhavgupta1/TensorFlow-2-for-Deep-Learning-Specialization/blob/main/Getting%20started%20with%20TensorFlow%202/Week2/Tutorial%20Assignment/fashion_mnist.ipynb\" target=\"_parent\"><img src=\"https://colab.research.google.com/assets/colab-badge.svg\" alt=\"Open In Colab\"/></a>"
      ]
    },
    {
      "cell_type": "code",
      "metadata": {
        "id": "M7ZjZTlKeeZM"
      },
      "source": [
        "import tensorflow as tf"
      ],
      "execution_count": 1,
      "outputs": []
    },
    {
      "cell_type": "code",
      "metadata": {
        "colab": {
          "base_uri": "https://localhost:8080/"
        },
        "id": "T24SBOSaSTTe",
        "outputId": "9f9a670e-dd46-4bfb-8774-a5d10b32c0ad"
      },
      "source": [
        "print(tf.__version__)"
      ],
      "execution_count": 2,
      "outputs": [
        {
          "output_type": "stream",
          "text": [
            "2.4.1\n"
          ],
          "name": "stdout"
        }
      ]
    },
    {
      "cell_type": "code",
      "metadata": {
        "id": "XJrx0tswei-s"
      },
      "source": [
        "from tensorflow.keras.models import Sequential\n",
        "from tensorflow.keras.layers import Dense, Flatten, Conv2D, MaxPooling2D "
      ],
      "execution_count": 3,
      "outputs": []
    },
    {
      "cell_type": "code",
      "metadata": {
        "id": "P-kpHy9QSP9y"
      },
      "source": [
        "from tensorflow.keras.models import Sequential\n",
        "from tensorflow.keras.layers import Dense, Flatten, Softmax"
      ],
      "execution_count": 4,
      "outputs": []
    },
    {
      "cell_type": "code",
      "metadata": {
        "id": "NbUWc7xsTNa_"
      },
      "source": [
        "from tensorflow.keras.preprocessing import image\n",
        "import matplotlib.pyplot as plt\n",
        "import numpy as np\n",
        "import pandas as pd"
      ],
      "execution_count": 5,
      "outputs": []
    },
    {
      "cell_type": "markdown",
      "metadata": {
        "id": "axDAkYWWvyvI"
      },
      "source": [
        "# Documentation"
      ]
    },
    {
      "cell_type": "code",
      "metadata": {
        "id": "82n3e5mUv082"
      },
      "source": [
        "## https://www.tensorflow.org/versions/r2.0/api_docs/python/tf/keras/\n",
        "## https://keras.io/api/"
      ],
      "execution_count": 6,
      "outputs": []
    },
    {
      "cell_type": "markdown",
      "metadata": {
        "id": "A1EI8B-uPNvf"
      },
      "source": [
        "# Building a Sequential model"
      ]
    },
    {
      "cell_type": "markdown",
      "metadata": {
        "id": "lVlgq-CO4L7m"
      },
      "source": [
        "## Dense Layers"
      ]
    },
    {
      "cell_type": "code",
      "metadata": {
        "id": "haeL1-z44Px2"
      },
      "source": [
        "# Dense(64, activation='relu'),\n",
        "# Dense(10, activation='sigmoid')\n",
        "# Dense(10, activation='linear')"
      ],
      "execution_count": 7,
      "outputs": []
    },
    {
      "cell_type": "code",
      "metadata": {
        "id": "d0B_tlgKPT5G"
      },
      "source": [
        "# Build the Sequential feedforward neural network model\n",
        "model = tf.keras.models.Sequential([\n",
        "  tf.keras.layers.Flatten(input_shape = (28,28)),\n",
        "  tf.keras.layers.Dense(16, activation='relu',name = \"DenseLayer_1\"),\n",
        "  tf.keras.layers.Dense(16, activation='relu',name = \"DenseLayer_2\"),\n",
        "  tf.keras.layers.Dense(10, activation='softmax',name = \"CategoricalLayer\")\n",
        "])"
      ],
      "execution_count": 8,
      "outputs": []
    },
    {
      "cell_type": "code",
      "metadata": {
        "colab": {
          "base_uri": "https://localhost:8080/"
        },
        "id": "DZsxzdeXRQEm",
        "outputId": "99a8a0e9-34a8-43ca-bef2-9e6643b65f4e"
      },
      "source": [
        "model.summary()"
      ],
      "execution_count": 9,
      "outputs": [
        {
          "output_type": "stream",
          "text": [
            "Model: \"sequential\"\n",
            "_________________________________________________________________\n",
            "Layer (type)                 Output Shape              Param #   \n",
            "=================================================================\n",
            "flatten (Flatten)            (None, 784)               0         \n",
            "_________________________________________________________________\n",
            "DenseLayer_1 (Dense)         (None, 16)                12560     \n",
            "_________________________________________________________________\n",
            "DenseLayer_2 (Dense)         (None, 16)                272       \n",
            "_________________________________________________________________\n",
            "CategoricalLayer (Dense)     (None, 10)                170       \n",
            "=================================================================\n",
            "Total params: 13,002\n",
            "Trainable params: 13,002\n",
            "Non-trainable params: 0\n",
            "_________________________________________________________________\n"
          ],
          "name": "stdout"
        }
      ]
    },
    {
      "cell_type": "code",
      "metadata": {
        "id": "AY9jcBu9P9Is"
      },
      "source": [
        "# Build the Sequential feedforward neural network model\n",
        "model = tf.keras.models.Sequential([\n",
        "  tf.keras.layers.Flatten(input_shape = (784,)),\n",
        "  tf.keras.layers.Dense(16, activation='relu', name = \"DenseLayer_1\"),\n",
        "  tf.keras.layers.Dense(16, activation='relu', name = \"DenseLayer_2\"),\n",
        "  tf.keras.layers.Dense(10, activation='softmax',name = \"CategoricalLayer\")\n",
        "])"
      ],
      "execution_count": 10,
      "outputs": []
    },
    {
      "cell_type": "code",
      "metadata": {
        "colab": {
          "base_uri": "https://localhost:8080/"
        },
        "id": "zq8zHsjJRUXI",
        "outputId": "5b4c7803-7b39-40dc-eaff-6aa75c824a5c"
      },
      "source": [
        "model.summary()"
      ],
      "execution_count": 11,
      "outputs": [
        {
          "output_type": "stream",
          "text": [
            "Model: \"sequential_1\"\n",
            "_________________________________________________________________\n",
            "Layer (type)                 Output Shape              Param #   \n",
            "=================================================================\n",
            "flatten_1 (Flatten)          (None, 784)               0         \n",
            "_________________________________________________________________\n",
            "DenseLayer_1 (Dense)         (None, 16)                12560     \n",
            "_________________________________________________________________\n",
            "DenseLayer_2 (Dense)         (None, 16)                272       \n",
            "_________________________________________________________________\n",
            "CategoricalLayer (Dense)     (None, 10)                170       \n",
            "=================================================================\n",
            "Total params: 13,002\n",
            "Trainable params: 13,002\n",
            "Non-trainable params: 0\n",
            "_________________________________________________________________\n"
          ],
          "name": "stdout"
        }
      ]
    },
    {
      "cell_type": "code",
      "metadata": {
        "id": "zWR92zVvPiRm"
      },
      "source": [
        "# Build the Sequential feedforward neural network model\n",
        "model = tf.keras.models.Sequential([\n",
        "  tf.keras.layers.Dense(16, activation='relu',input_shape = (784,),name = \"DenseLayer_1\"),\n",
        "  tf.keras.layers.Dense(16, activation='relu',name = \"DenseLayer_2\"),\n",
        "  tf.keras.layers.Dense(10, activation='softmax',name = \"CategoricalLayer\")\n",
        "])"
      ],
      "execution_count": 12,
      "outputs": []
    },
    {
      "cell_type": "code",
      "metadata": {
        "colab": {
          "base_uri": "https://localhost:8080/"
        },
        "id": "co-bTbVORVn4",
        "outputId": "ae74f631-f954-4dc8-d533-69f16175bb1c"
      },
      "source": [
        "model.summary()"
      ],
      "execution_count": 13,
      "outputs": [
        {
          "output_type": "stream",
          "text": [
            "Model: \"sequential_2\"\n",
            "_________________________________________________________________\n",
            "Layer (type)                 Output Shape              Param #   \n",
            "=================================================================\n",
            "DenseLayer_1 (Dense)         (None, 16)                12560     \n",
            "_________________________________________________________________\n",
            "DenseLayer_2 (Dense)         (None, 16)                272       \n",
            "_________________________________________________________________\n",
            "CategoricalLayer (Dense)     (None, 10)                170       \n",
            "=================================================================\n",
            "Total params: 13,002\n",
            "Trainable params: 13,002\n",
            "Non-trainable params: 0\n",
            "_________________________________________________________________\n"
          ],
          "name": "stdout"
        }
      ]
    },
    {
      "cell_type": "markdown",
      "metadata": {
        "id": "E-5cXDVqRz-B"
      },
      "source": [
        "# Build a convolutional neural network model"
      ]
    },
    {
      "cell_type": "markdown",
      "metadata": {
        "id": "QGBK2pnTvJAk"
      },
      "source": [
        "### Conv2D Layers"
      ]
    },
    {
      "cell_type": "code",
      "metadata": {
        "id": "DM2AuyzlvOij"
      },
      "source": [
        "# Conv2D(32, kernel_size = (3, 3), padding = 'SAME',activation='relu', input_shape=(28, 28, 1)),\n",
        "# Conv2D(32, kernel_size = 3, padding = 'SAME',activation='relu', input_shape=(28, 28, 1)),\n",
        "# Conv2D(64, (3, 3), activation='elu'),\n",
        "# Conv2D(64, (3, 3), activation='selu'),"
      ],
      "execution_count": 14,
      "outputs": []
    },
    {
      "cell_type": "markdown",
      "metadata": {
        "id": "V2YOE5MQvcze"
      },
      "source": [
        "### MaxPooling2D Layers"
      ]
    },
    {
      "cell_type": "code",
      "metadata": {
        "id": "bjc8JFwevho1"
      },
      "source": [
        "# MaxPooling2D(pool_size = (2, 2)),\n",
        "# MaxPooling2D(pool_size = 2),"
      ],
      "execution_count": 15,
      "outputs": []
    },
    {
      "cell_type": "code",
      "metadata": {
        "id": "gwPbZ4hKeraB"
      },
      "source": [
        "# Build the Sequential convolutional neural network model\n",
        "model = Sequential([\n",
        "    Conv2D(32, (3, 3), activation='relu', input_shape=(28, 28, 1)),\n",
        "    MaxPooling2D((2, 2)),\n",
        "    Conv2D(64, (3, 3), activation='relu'),\n",
        "    MaxPooling2D((2, 2)),\n",
        "    Conv2D(64, (3, 3), activation='relu'),\n",
        "    Flatten(),\n",
        "    Dense(64, activation='relu'),\n",
        "    Dense(10, activation='softmax'),\n",
        "])"
      ],
      "execution_count": 16,
      "outputs": []
    },
    {
      "cell_type": "code",
      "metadata": {
        "colab": {
          "base_uri": "https://localhost:8080/"
        },
        "id": "i31F3o-RSaBk",
        "outputId": "006b8183-0fc4-4c9c-8274-254c9dfc283c"
      },
      "source": [
        "# Print the model summary\n",
        "model.summary()"
      ],
      "execution_count": 17,
      "outputs": [
        {
          "output_type": "stream",
          "text": [
            "Model: \"sequential_3\"\n",
            "_________________________________________________________________\n",
            "Layer (type)                 Output Shape              Param #   \n",
            "=================================================================\n",
            "conv2d (Conv2D)              (None, 26, 26, 32)        320       \n",
            "_________________________________________________________________\n",
            "max_pooling2d (MaxPooling2D) (None, 13, 13, 32)        0         \n",
            "_________________________________________________________________\n",
            "conv2d_1 (Conv2D)            (None, 11, 11, 64)        18496     \n",
            "_________________________________________________________________\n",
            "max_pooling2d_1 (MaxPooling2 (None, 5, 5, 64)          0         \n",
            "_________________________________________________________________\n",
            "conv2d_2 (Conv2D)            (None, 3, 3, 64)          36928     \n",
            "_________________________________________________________________\n",
            "flatten_2 (Flatten)          (None, 576)               0         \n",
            "_________________________________________________________________\n",
            "dense (Dense)                (None, 64)                36928     \n",
            "_________________________________________________________________\n",
            "dense_1 (Dense)              (None, 10)                650       \n",
            "=================================================================\n",
            "Total params: 93,322\n",
            "Trainable params: 93,322\n",
            "Non-trainable params: 0\n",
            "_________________________________________________________________\n"
          ],
          "name": "stdout"
        }
      ]
    },
    {
      "cell_type": "markdown",
      "metadata": {
        "id": "f_IQoKQgS4pn"
      },
      "source": [
        "## The Compile Method"
      ]
    },
    {
      "cell_type": "markdown",
      "metadata": {
        "id": "v4GhUr19vkox"
      },
      "source": [
        "### Metrics"
      ]
    },
    {
      "cell_type": "code",
      "metadata": {
        "id": "jg-fuJWmupEe"
      },
      "source": [
        "# metrics=['accuracy','mae', 'mape']\n",
        "# accuracy = tf.keras.metrics.Accuracy()\n",
        "# binary_accuracy = tf.keras.metrics.BinaryAccuracy() or tf.keras.metrics.BinaryAccuracy(threshold = 0.7)\n",
        "# mae = tf.keras.metrics.MeanAbsoluteError()\n",
        "# mape = tf.keras.metrics.MeanAbsolutePercentageError()\n",
        "# sca = tf.keras.metrics.SparseCategoricalAccuracy()"
      ],
      "execution_count": 18,
      "outputs": []
    },
    {
      "cell_type": "markdown",
      "metadata": {
        "id": "ftzdoppo0VjP"
      },
      "source": [
        "### Optimizers"
      ]
    },
    {
      "cell_type": "code",
      "metadata": {
        "id": "jCBSUawB0K0C"
      },
      "source": [
        "# optimizer='adam', # 'sgd', 'rmsprop', 'adadelta'\n",
        "# optimizer=tf.keras.optimizer.SGD(),\n",
        "# optimizer=tf.keras.optimizer.SGD(learning_rate = 0.001,momentum = 0.9, nesterov = True),"
      ],
      "execution_count": 19,
      "outputs": []
    },
    {
      "cell_type": "markdown",
      "metadata": {
        "id": "rMNMsiEA0ZDK"
      },
      "source": [
        "### Losses"
      ]
    },
    {
      "cell_type": "code",
      "metadata": {
        "id": "FpBYSmRy0amH"
      },
      "source": [
        "# loss = tf.keras.losses.BinaryCrossentropy()\n",
        "# loss = tf.keras.losses.categorical_crossentropy()\n",
        "# loss = tf.keras.losses.SparseCategoricalCrossentropy()\n",
        "# loss = tf.keras.losses.BinaryCrossentropy(from_logits=True), \n",
        "# if  from_logits=True then last activation function in last layer should be linear ie Dense(10, activation='linear')\n",
        "# loss = 'bianry_crossentropy', 'mean_squared_error', 'categorical_crossentropy', 'sparse_categorical_crossentropy'"
      ],
      "execution_count": 20,
      "outputs": []
    },
    {
      "cell_type": "code",
      "metadata": {
        "id": "hxpns2U3kdAX",
        "colab": {
          "base_uri": "https://localhost:8080/",
          "height": 52
        },
        "outputId": "efbf7cda-8834-48fd-ed19-abd1d5e096a1"
      },
      "source": [
        "'''\n",
        "model.compile(optimizer=‘adam’, loss=‘mean_squared_error’, metrics=[‘mape’])\n",
        "'''\n",
        "\n",
        "### or \n",
        "\n",
        "'''\n",
        "model.compile(optimizer=tf.keras.optimizers.Adam(learning_rate=0.001, beta_1=0.9, beta_2=0.999)\n",
        "loss=tf.keras.losses.MeanSquaredError()\n",
        "metrics=[tf.keras.metrics.MeanAbsolutePercentageError()])\n",
        "'''"
      ],
      "execution_count": 21,
      "outputs": [
        {
          "output_type": "execute_result",
          "data": {
            "application/vnd.google.colaboratory.intrinsic+json": {
              "type": "string"
            },
            "text/plain": [
              "'\\nmodel.compile(optimizer=tf.keras.optimizers.Adam(learning_rate=0.001, beta_1=0.9, beta_2=0.999)\\nloss=tf.keras.losses.MeanSquaredError()\\nmetrics=[tf.keras.metrics.MeanAbsolutePercentageError()])\\n'"
            ]
          },
          "metadata": {
            "tags": []
          },
          "execution_count": 21
        }
      ]
    },
    {
      "cell_type": "code",
      "metadata": {
        "id": "RJizK9VArxOH"
      },
      "source": [
        "opt = tf.keras.optimizers.Adam(learning_rate = 0.005)\n",
        "acc = tf.keras.metrics.SparseCategoricalAccuracy()\n",
        "mae = tf.keras.metrics.MeanAbsoluteError()\n",
        "loss_fn =  tf.keras.losses.SparseCategoricalCrossentropy()"
      ],
      "execution_count": 22,
      "outputs": []
    },
    {
      "cell_type": "code",
      "metadata": {
        "id": "w_aXD2pMfJ8U"
      },
      "source": [
        "model.compile( optimizer = opt, \n",
        "              loss= loss_fn,\n",
        "              metrics=[acc, mae]\n",
        "              )"
      ],
      "execution_count": 23,
      "outputs": []
    },
    {
      "cell_type": "code",
      "metadata": {
        "colab": {
          "base_uri": "https://localhost:8080/"
        },
        "id": "wpkHOccVSoW2",
        "outputId": "1bd470a2-6c97-4812-f8b9-c9a268139420"
      },
      "source": [
        "# Print the resulting model attributes\n",
        "print(model.optimizer)\n",
        "print(model.optimizer.lr)\n",
        "print(model.loss)\n",
        "print(model.metrics)"
      ],
      "execution_count": 24,
      "outputs": [
        {
          "output_type": "stream",
          "text": [
            "<tensorflow.python.keras.optimizer_v2.adam.Adam object at 0x7f4f77be0fd0>\n",
            "<tf.Variable 'learning_rate:0' shape=() dtype=float32, numpy=0.005>\n",
            "<tensorflow.python.keras.losses.SparseCategoricalCrossentropy object at 0x7f4fb704a6d0>\n",
            "[]\n"
          ],
          "name": "stdout"
        }
      ]
    },
    {
      "cell_type": "markdown",
      "metadata": {
        "id": "k8pt6a0pUrYf"
      },
      "source": [
        "## Load the Data"
      ]
    },
    {
      "cell_type": "code",
      "metadata": {
        "colab": {
          "base_uri": "https://localhost:8080/"
        },
        "id": "Bz4QqccDTFwY",
        "outputId": "de00e66c-edad-4a4c-e6e5-2af77404a2dc"
      },
      "source": [
        "# Load the Fashion-MNIST dataset\n",
        "\n",
        "fashion_mnist_data = tf.keras.datasets.fashion_mnist\n",
        "(train_images, train_labels), (test_images, test_labels) = fashion_mnist_data.load_data()"
      ],
      "execution_count": 25,
      "outputs": [
        {
          "output_type": "stream",
          "text": [
            "Downloading data from https://storage.googleapis.com/tensorflow/tf-keras-datasets/train-labels-idx1-ubyte.gz\n",
            "32768/29515 [=================================] - 0s 0us/step\n",
            "Downloading data from https://storage.googleapis.com/tensorflow/tf-keras-datasets/train-images-idx3-ubyte.gz\n",
            "26427392/26421880 [==============================] - 0s 0us/step\n",
            "Downloading data from https://storage.googleapis.com/tensorflow/tf-keras-datasets/t10k-labels-idx1-ubyte.gz\n",
            "8192/5148 [===============================================] - 0s 0us/step\n",
            "Downloading data from https://storage.googleapis.com/tensorflow/tf-keras-datasets/t10k-images-idx3-ubyte.gz\n",
            "4423680/4422102 [==============================] - 0s 0us/step\n"
          ],
          "name": "stdout"
        }
      ]
    },
    {
      "cell_type": "code",
      "metadata": {
        "colab": {
          "base_uri": "https://localhost:8080/"
        },
        "id": "iDQ-zTbaTTia",
        "outputId": "59839642-aab9-4ca4-e8a1-af7393cebeea"
      },
      "source": [
        "# Print the shape of the training data\n",
        "\n",
        "print(train_images.shape,train_labels.shape)"
      ],
      "execution_count": 26,
      "outputs": [
        {
          "output_type": "stream",
          "text": [
            "(60000, 28, 28) (60000,)\n"
          ],
          "name": "stdout"
        }
      ]
    },
    {
      "cell_type": "code",
      "metadata": {
        "id": "l4PICWhrTYP7"
      },
      "source": [
        "# Define the labels\n",
        "\n",
        "labels = [\n",
        "    'T-shirt/top',\n",
        "    'Trouser',\n",
        "    'Pullover',\n",
        "    'Dress',\n",
        "    'Coat',\n",
        "    'Sandal',\n",
        "    'Shirt',\n",
        "    'Sneaker',\n",
        "    'Bag',\n",
        "    'Ankle boot'\n",
        "]"
      ],
      "execution_count": 27,
      "outputs": []
    },
    {
      "cell_type": "code",
      "metadata": {
        "id": "E0rLtxBtTapz"
      },
      "source": [
        "# Rescale the image values so that they lie in between 0 and 1.\n",
        "\n",
        "train_images , test_images = train_images/255., test_images/255."
      ],
      "execution_count": 28,
      "outputs": []
    },
    {
      "cell_type": "code",
      "metadata": {
        "colab": {
          "base_uri": "https://localhost:8080/",
          "height": 282
        },
        "id": "ROZzsreqTdPv",
        "outputId": "ac3c3417-ecb8-41ba-9682-bf59cdb46eed"
      },
      "source": [
        "# Display one of the images\n",
        "i = 0\n",
        "img = train_images[i,:,:]\n",
        "plt.imshow(img)\n",
        "print(f'Label : {labels[train_labels[i]]}')"
      ],
      "execution_count": 29,
      "outputs": [
        {
          "output_type": "stream",
          "text": [
            "Label : Ankle boot\n"
          ],
          "name": "stdout"
        },
        {
          "output_type": "display_data",
          "data": {
            "image/png": "[encoded data removed]",
            "text/plain": [
              "<Figure size 432x288 with 1 Axes>"
            ]
          },
          "metadata": {
            "tags": [],
            "needs_background": "light"
          }
        }
      ]
    },
    {
      "cell_type": "code",
      "metadata": {
        "id": "x0yS6PAIUNNe"
      },
      "source": [
        "# Add a dummy channel dimension\n",
        "\n",
        "scaled_train_images = train_images[..., np.newaxis]\n",
        "scaled_test_images = test_images[..., np.newaxis]"
      ],
      "execution_count": 30,
      "outputs": []
    },
    {
      "cell_type": "code",
      "metadata": {
        "colab": {
          "base_uri": "https://localhost:8080/"
        },
        "id": "T4DfkdGYUfHd",
        "outputId": "21530d5e-853f-4a7f-e0b2-19213add75dc"
      },
      "source": [
        "# Print the shape of the training data\n",
        "\n",
        "print(train_images.shape,train_labels.shape)"
      ],
      "execution_count": 31,
      "outputs": [
        {
          "output_type": "stream",
          "text": [
            "(60000, 28, 28) (60000,)\n"
          ],
          "name": "stdout"
        }
      ]
    },
    {
      "cell_type": "markdown",
      "metadata": {
        "id": "lwAoo7D0TIJt"
      },
      "source": [
        "## The fit method"
      ]
    },
    {
      "cell_type": "code",
      "metadata": {
        "colab": {
          "base_uri": "https://localhost:8080/"
        },
        "id": "6KdRvM-rTg5t",
        "outputId": "dca1361b-df50-4790-9a01-bddae381e260"
      },
      "source": [
        "# Fit the model\n",
        "history = model.fit(scaled_train_images,train_labels,epochs=3,batch_size=256)"
      ],
      "execution_count": 32,
      "outputs": [
        {
          "output_type": "stream",
          "text": [
            "Epoch 1/3\n",
            "235/235 [==============================] - 44s 184ms/step - loss: 0.8477 - sparse_categorical_accuracy: 0.6793 - mean_absolute_error: 4.4115\n",
            "Epoch 2/3\n",
            "235/235 [==============================] - 43s 185ms/step - loss: 0.3498 - sparse_categorical_accuracy: 0.8734 - mean_absolute_error: 4.4110\n",
            "Epoch 3/3\n",
            "235/235 [==============================] - 43s 183ms/step - loss: 0.3022 - sparse_categorical_accuracy: 0.8895 - mean_absolute_error: 4.4250\n"
          ],
          "name": "stdout"
        }
      ]
    },
    {
      "cell_type": "markdown",
      "metadata": {
        "id": "4lytHyoLU9T-"
      },
      "source": [
        "## Plot the Training History "
      ]
    },
    {
      "cell_type": "code",
      "metadata": {
        "colab": {
          "base_uri": "https://localhost:8080/",
          "height": 136
        },
        "id": "14n5QhB2Tjbc",
        "outputId": "7ba1d0c3-a5f5-451c-c0dc-950bf24eb4d5"
      },
      "source": [
        "# Load the history into a pandas Dataframe\n",
        "\n",
        "df = pd.DataFrame(history.history)\n",
        "df.head()"
      ],
      "execution_count": 33,
      "outputs": [
        {
          "output_type": "execute_result",
          "data": {
            "text/html": [
              "<div>\n",
              "<style scoped>\n",
              "    .dataframe tbody tr th:only-of-type {\n",
              "        vertical-align: middle;\n",
              "    }\n",
              "\n",
              "    .dataframe tbody tr th {\n",
              "        vertical-align: top;\n",
              "    }\n",
              "\n",
              "    .dataframe thead th {\n",
              "        text-align: right;\n",
              "    }\n",
              "</style>\n",
              "<table border=\"1\" class=\"dataframe\">\n",
              "  <thead>\n",
              "    <tr style=\"text-align: right;\">\n",
              "      <th></th>\n",
              "      <th>loss</th>\n",
              "      <th>sparse_categorical_accuracy</th>\n",
              "      <th>mean_absolute_error</th>\n",
              "    </tr>\n",
              "  </thead>\n",
              "  <tbody>\n",
              "    <tr>\n",
              "      <th>0</th>\n",
              "      <td>0.557689</td>\n",
              "      <td>0.793817</td>\n",
              "      <td>4.420001</td>\n",
              "    </tr>\n",
              "    <tr>\n",
              "      <th>1</th>\n",
              "      <td>0.337056</td>\n",
              "      <td>0.877700</td>\n",
              "      <td>4.420000</td>\n",
              "    </tr>\n",
              "    <tr>\n",
              "      <th>2</th>\n",
              "      <td>0.295481</td>\n",
              "      <td>0.890900</td>\n",
              "      <td>4.420001</td>\n",
              "    </tr>\n",
              "  </tbody>\n",
              "</table>\n",
              "</div>"
            ],
            "text/plain": [
              "       loss  sparse_categorical_accuracy  mean_absolute_error\n",
              "0  0.557689                     0.793817             4.420001\n",
              "1  0.337056                     0.877700             4.420000\n",
              "2  0.295481                     0.890900             4.420001"
            ]
          },
          "metadata": {
            "tags": []
          },
          "execution_count": 33
        }
      ]
    },
    {
      "cell_type": "code",
      "metadata": {
        "colab": {
          "base_uri": "https://localhost:8080/",
          "height": 312
        },
        "id": "LMHEiHoBTlje",
        "outputId": "43b91560-7f93-41f6-d0f1-022db6f0a2e6"
      },
      "source": [
        "# Make a plot for the loss\n",
        "loss_plot = df.plot(y = \"loss\", title = \"Loss Vs Epochs\", legend = False)\n",
        "loss_plot.set(xlabel = \"Epochs\", ylabel = \"Loss\")"
      ],
      "execution_count": 34,
      "outputs": [
        {
          "output_type": "execute_result",
          "data": {
            "text/plain": [
              "[Text(0, 0.5, 'Loss'), Text(0.5, 0, 'Epochs')]"
            ]
          },
          "metadata": {
            "tags": []
          },
          "execution_count": 34
        },
        {
          "output_type": "display_data",
          "data": {
            "image/png": "[encoded data removed]",
            "text/plain": [
              "<Figure size 432x288 with 1 Axes>"
            ]
          },
          "metadata": {
            "tags": [],
            "needs_background": "light"
          }
        }
      ]
    },
    {
      "cell_type": "code",
      "metadata": {
        "colab": {
          "base_uri": "https://localhost:8080/",
          "height": 312
        },
        "id": "e0NEX7ryTp_m",
        "outputId": "004df1cb-eb1a-4392-d64b-720a68c6bc96"
      },
      "source": [
        "# Make a plot for the accuracy\n",
        "\n",
        "loss_plot = df.plot(y = \"sparse_categorical_accuracy\", title = \"Sparse Categorical Accuracy Vs Epochs\", legend = False)\n",
        "loss_plot.set(xlabel = \"Epochs\", ylabel = \"Sparse Categorical Accuracy\")"
      ],
      "execution_count": 35,
      "outputs": [
        {
          "output_type": "execute_result",
          "data": {
            "text/plain": [
              "[Text(0, 0.5, 'Sparse Categorical Accuracy'), Text(0.5, 0, 'Epochs')]"
            ]
          },
          "metadata": {
            "tags": []
          },
          "execution_count": 35
        },
        {
          "output_type": "display_data",
          "data": {
            "image/png": "[encoded data removed]",
            "text/plain": [
              "<Figure size 432x288 with 1 Axes>"
            ]
          },
          "metadata": {
            "tags": [],
            "needs_background": "light"
          }
        }
      ]
    },
    {
      "cell_type": "code",
      "metadata": {
        "colab": {
          "base_uri": "https://localhost:8080/",
          "height": 312
        },
        "id": "v-jb2DeDTr-8",
        "outputId": "cb06d9ec-3625-47ca-88ef-5aaa3c7a0411"
      },
      "source": [
        "# Make a plot for the additional metric\n",
        "\n",
        "loss_plot = df.plot(y = \"mean_absolute_error\", title = \"Mean Absolute Error Vs Epochs\", legend = False)\n",
        "loss_plot.set(xlabel = \"Epochs\", ylabel = \"Mean Absolute Error\")"
      ],
      "execution_count": 36,
      "outputs": [
        {
          "output_type": "execute_result",
          "data": {
            "text/plain": [
              "[Text(0, 0.5, 'Mean Absolute Error'), Text(0.5, 0, 'Epochs')]"
            ]
          },
          "metadata": {
            "tags": []
          },
          "execution_count": 36
        },
        {
          "output_type": "display_data",
          "data": {
            "image/png": "[encoded data removed]",
            "text/plain": [
              "<Figure size 432x288 with 1 Axes>"
            ]
          },
          "metadata": {
            "tags": [],
            "needs_background": "light"
          }
        }
      ]
    },
    {
      "cell_type": "markdown",
      "metadata": {
        "id": "Q-mNA2iUVIu-"
      },
      "source": [
        "## The evaluate and predict methods"
      ]
    },
    {
      "cell_type": "code",
      "metadata": {
        "colab": {
          "base_uri": "https://localhost:8080/"
        },
        "id": "J5OiDcvyVJ8A",
        "outputId": "7de32f0e-3f7b-4792-b65f-fba49e341572"
      },
      "source": [
        "# Evaluate the model\n",
        "\n",
        "test_loss , test_acc , test_mae = model.evaluate(scaled_test_images,test_labels,verbose = 2)"
      ],
      "execution_count": 37,
      "outputs": [
        {
          "output_type": "stream",
          "text": [
            "313/313 - 3s - loss: 0.3524 - sparse_categorical_accuracy: 0.8709 - mean_absolute_error: 4.4200\n"
          ],
          "name": "stdout"
        }
      ]
    },
    {
      "cell_type": "code",
      "metadata": {
        "colab": {
          "base_uri": "https://localhost:8080/",
          "height": 282
        },
        "id": "VQJ1aNotVfG6",
        "outputId": "31ce84b0-2f63-4c37-a629-2f626b8d4912"
      },
      "source": [
        "# Choose a random test image\n",
        "\n",
        "random_inx = np.random.choice(test_images.shape[0])\n",
        "\n",
        "test_image = test_images[random_inx]\n",
        "plt.imshow(test_image)\n",
        "plt.show()\n",
        "print(f\"Label: {labels[test_labels[random_inx]]}\")"
      ],
      "execution_count": 38,
      "outputs": [
        {
          "output_type": "display_data",
          "data": {
            "image/png": "[encoded data removed]",
            "text/plain": [
              "<Figure size 432x288 with 1 Axes>"
            ]
          },
          "metadata": {
            "tags": [],
            "needs_background": "light"
          }
        },
        {
          "output_type": "stream",
          "text": [
            "Label: Ankle boot\n"
          ],
          "name": "stdout"
        }
      ]
    },
    {
      "cell_type": "code",
      "metadata": {
        "colab": {
          "base_uri": "https://localhost:8080/"
        },
        "id": "TsSNwKQ0Vunb",
        "outputId": "ebaf5b61-3a18-44c9-9d77-f45e6b99a2a9"
      },
      "source": [
        "# Get the model predictions\n",
        "\n",
        "pred = model.predict(test_image[np.newaxis,...,np.newaxis])\n",
        "print(f'Model predictions : {labels[np.argmax(pred)]}' )"
      ],
      "execution_count": 39,
      "outputs": [
        {
          "output_type": "stream",
          "text": [
            "Model predictions : Ankle boot\n"
          ],
          "name": "stdout"
        }
      ]
    },
    {
      "cell_type": "code",
      "metadata": {
        "colab": {
          "base_uri": "https://localhost:8080/",
          "height": 716
        },
        "id": "fwmUNFRRV9vN",
        "outputId": "08a14aab-e148-41f1-c94f-691bb593a606"
      },
      "source": [
        "# Run this cell to get model predictions on randomly selected test images\n",
        "\n",
        "num_test_images = scaled_test_images.shape[0]\n",
        "\n",
        "random_inx = np.random.choice(num_test_images, 4)\n",
        "random_test_images = scaled_test_images[random_inx, ...]\n",
        "random_test_labels = test_labels[random_inx, ...]\n",
        " \n",
        "predictions = model.predict(random_test_images)\n",
        "\n",
        "fig, axes = plt.subplots(4, 2, figsize=(16, 12))\n",
        "fig.subplots_adjust(hspace=0.4, wspace=-0.2)\n",
        "\n",
        "for i, (prediction, image, label) in enumerate(zip(predictions, random_test_images, random_test_labels)):\n",
        "    axes[i, 0].imshow(np.squeeze(image))\n",
        "    axes[i, 0].get_xaxis().set_visible(False)\n",
        "    axes[i, 0].get_yaxis().set_visible(False)\n",
        "    axes[i, 0].text(10., -1.5, f'Cloth : {labels[label]}')\n",
        "    axes[i, 1].bar(labels, prediction)\n",
        "    axes[i, 1].set_xticks(np.arange(len(prediction)))\n",
        "    axes[i, 1].set_title(f\"Categorical distribution - Model prediction: {labels[np.argmax(prediction)],round(prediction[np.argmax(prediction)],2)}\")\n",
        "    \n",
        "plt.show()"
      ],
      "execution_count": 40,
      "outputs": [
        {
          "output_type": "display_data",
          "data": {
            "image/png": "[encoded data removed]",
            "text/plain": [
              "<Figure size 1152x864 with 8 Axes>"
            ]
          },
          "metadata": {
            "tags": [],
            "needs_background": "light"
          }
        }
      ]
    }
  ]
}